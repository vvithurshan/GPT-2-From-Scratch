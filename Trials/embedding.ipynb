{
 "cells": [
  {
   "cell_type": "markdown",
   "id": "ba4847cf",
   "metadata": {},
   "source": [
    "## Linear vs Embedding"
   ]
  },
  {
   "cell_type": "code",
   "execution_count": 64,
   "id": "6466cf9f",
   "metadata": {},
   "outputs": [
    {
     "data": {
      "text/plain": [
       "<torch._C.Generator at 0x115707650>"
      ]
     },
     "execution_count": 64,
     "metadata": {},
     "output_type": "execute_result"
    }
   ],
   "source": [
    "import torch\n",
    "torch.manual_seed(42)"
   ]
  },
  {
   "cell_type": "code",
   "execution_count": 65,
   "id": "cbb6e097",
   "metadata": {},
   "outputs": [],
   "source": [
    "# input\n",
    "inputs = torch.tensor([0, 2, 1, 4, 3])"
   ]
  },
  {
   "cell_type": "code",
   "execution_count": 66,
   "id": "a82e9c82",
   "metadata": {},
   "outputs": [],
   "source": [
    "# linear \n",
    "linear = torch.nn.Linear(inputs.shape[0], 5, bias=False)"
   ]
  },
  {
   "cell_type": "code",
   "execution_count": 67,
   "id": "2ac5b82a",
   "metadata": {},
   "outputs": [],
   "source": [
    "embedding = torch.nn.Embedding(inputs.shape[0], 5)"
   ]
  },
  {
   "cell_type": "code",
   "execution_count": 68,
   "id": "c5e2275a",
   "metadata": {},
   "outputs": [],
   "source": [
    "linear.weight = torch.nn.Parameter(embedding.weight.T)"
   ]
  },
  {
   "cell_type": "code",
   "execution_count": 69,
   "id": "0f3f5d54",
   "metadata": {},
   "outputs": [
    {
     "data": {
      "text/plain": [
       "Parameter containing:\n",
       "tensor([[-0.6866, -2.3169,  0.5258, -0.8371,  1.8446],\n",
       "        [-0.4934, -0.2168, -0.4880, -0.9224, -1.1845],\n",
       "        [ 0.2415, -1.3847,  1.1914, -0.0635,  1.3835],\n",
       "        [-1.1109, -0.3957, -0.8140,  0.6756, -1.2024],\n",
       "        [ 0.0915,  0.0780, -0.7360, -0.0978,  0.7078]], requires_grad=True)"
      ]
     },
     "execution_count": 69,
     "metadata": {},
     "output_type": "execute_result"
    }
   ],
   "source": [
    "linear.weight"
   ]
  },
  {
   "cell_type": "code",
   "execution_count": 70,
   "id": "56ce6a00",
   "metadata": {},
   "outputs": [
    {
     "data": {
      "text/plain": [
       "Parameter containing:\n",
       "tensor([[-0.6866, -0.4934,  0.2415, -1.1109,  0.0915],\n",
       "        [-2.3169, -0.2168, -1.3847, -0.3957,  0.0780],\n",
       "        [ 0.5258, -0.4880,  1.1914, -0.8140, -0.7360],\n",
       "        [-0.8371, -0.9224, -0.0635,  0.6756, -0.0978],\n",
       "        [ 1.8446, -1.1845,  1.3835, -1.2024,  0.7078]], requires_grad=True)"
      ]
     },
     "execution_count": 70,
     "metadata": {},
     "output_type": "execute_result"
    }
   ],
   "source": [
    "embedding.weight"
   ]
  },
  {
   "cell_type": "code",
   "execution_count": 71,
   "id": "ac22c754",
   "metadata": {},
   "outputs": [
    {
     "data": {
      "text/plain": [
       "tensor([[1, 0, 0, 0, 0],\n",
       "        [0, 0, 1, 0, 0],\n",
       "        [0, 1, 0, 0, 0],\n",
       "        [0, 0, 0, 0, 1],\n",
       "        [0, 0, 0, 1, 0]])"
      ]
     },
     "execution_count": 71,
     "metadata": {},
     "output_type": "execute_result"
    }
   ],
   "source": [
    "# one hot\n",
    "onehot = torch.nn.functional.one_hot(inputs)\n",
    "onehot"
   ]
  },
  {
   "cell_type": "code",
   "execution_count": 72,
   "id": "f2ba7c2e",
   "metadata": {},
   "outputs": [
    {
     "data": {
      "text/plain": [
       "tensor([[-0.6866, -0.4934,  0.2415, -1.1109,  0.0915],\n",
       "        [ 0.5258, -0.4880,  1.1914, -0.8140, -0.7360],\n",
       "        [-2.3169, -0.2168, -1.3847, -0.3957,  0.0780],\n",
       "        [ 1.8446, -1.1845,  1.3835, -1.2024,  0.7078],\n",
       "        [-0.8371, -0.9224, -0.0635,  0.6756, -0.0978]], grad_fn=<MmBackward0>)"
      ]
     },
     "execution_count": 72,
     "metadata": {},
     "output_type": "execute_result"
    }
   ],
   "source": [
    "linear(onehot.float())"
   ]
  },
  {
   "cell_type": "markdown",
   "id": "4307cf61",
   "metadata": {},
   "source": [
    "## Encoding "
   ]
  },
  {
   "cell_type": "code",
   "execution_count": 73,
   "id": "0d7ec7c6",
   "metadata": {},
   "outputs": [],
   "source": [
    "import tiktoken"
   ]
  },
  {
   "cell_type": "code",
   "execution_count": 74,
   "id": "5cd3218c",
   "metadata": {},
   "outputs": [],
   "source": [
    "tokenizer = tiktoken.get_encoding(\"gpt2\")"
   ]
  },
  {
   "cell_type": "code",
   "execution_count": null,
   "id": "2aca2b77",
   "metadata": {},
   "outputs": [],
   "source": [
    "input1 = \"Hi how are you\"\n",
    "input2 = \"transformer architecture\"\n",
    "\n",
    "idx1 = tokenizer.encode(input1, allowed_special={\"<|endoftext|>\"})\n",
    "idx2 = tokenizer.encode(input2, allowed_special={\"<|endoftext|>\"})\n"
   ]
  },
  {
   "cell_type": "code",
   "execution_count": 82,
   "id": "17a99900",
   "metadata": {},
   "outputs": [
    {
     "data": {
      "text/plain": [
       "([17250, 703, 389, 345], [7645, 16354, 10959])"
      ]
     },
     "execution_count": 82,
     "metadata": {},
     "output_type": "execute_result"
    }
   ],
   "source": [
    "idx1, idx2"
   ]
  },
  {
   "cell_type": "code",
   "execution_count": 110,
   "id": "283230b9",
   "metadata": {},
   "outputs": [],
   "source": [
    "from torch.utils.data import Dataset, DataLoader\n",
    "\n",
    "class GPTDataset(Dataset):\n",
    "    def __init__(self, txt, tokenizer, max_length, stride):\n",
    "        self.input_ids = []\n",
    "        self.target_ids = []\n",
    "\n",
    "        self.token_ids = tokenizer.encode(txt, allowed_special={\"<|endoftext|>\"})\n",
    "        assert len(self.token_ids) > max_length, \"Number of tokenized inputs must at least be equal to max_length + 1\"\n",
    "\n",
    "        for i in range(0, len(self.token_ids) - max_length, stride):\n",
    "            input_chunk = self.token_ids[i: i + max_length]\n",
    "            target_chunk = self.token_ids[i + 1: i + 1 + max_length]\n",
    "            self.input_ids.append(torch.tensor(input_chunk))\n",
    "            self.target_ids.append(torch.tensor(target_chunk))\n",
    "\n",
    "    def __len__(self):\n",
    "        return len(self.input_ids)\n",
    "    \n",
    "    def __getitem__(self, idx):\n",
    "        return self.input_ids[idx], self.target_ids[idx]"
   ]
  },
  {
   "cell_type": "code",
   "execution_count": 111,
   "id": "373f40f1",
   "metadata": {},
   "outputs": [],
   "source": [
    "def create_dataloader(txt, batch_size = 4, max_length = 256,\n",
    "                      stride = 128, shuffle = True, drop_last = True, num_workers = 0):\n",
    "    tokenizer = tiktoken.get_encoding(\"gpt2\")\n",
    "\n",
    "    dataset = GPTDataset(txt , tokenizer, max_length, stride)\n",
    "\n",
    "    dataloader = DataLoader(\n",
    "        dataset,\n",
    "        batch_size=batch_size,\n",
    "        shuffle=shuffle,\n",
    "        drop_last=drop_last,\n",
    "        num_workers=num_workers\n",
    "    )\n",
    "    return dataloader"
   ]
  },
  {
   "cell_type": "code",
   "execution_count": 112,
   "id": "1f6f01a3",
   "metadata": {},
   "outputs": [],
   "source": [
    "raw = \"\"\n",
    "with open(\"discipline.txt\", \"r\", encoding=\"utf-8\") as f:\n",
    "    raw = f.read()"
   ]
  },
  {
   "cell_type": "code",
   "execution_count": 113,
   "id": "ac019744",
   "metadata": {},
   "outputs": [
    {
     "name": "stdout",
     "output_type": "stream",
     "text": [
      "The Power of Discipline: A Comprehensive Analysis\n",
      "Discipline is a multifaceted concept that plays a\n"
     ]
    }
   ],
   "source": [
    "print(raw[:100])"
   ]
  },
  {
   "cell_type": "code",
   "execution_count": 126,
   "id": "5553b05e",
   "metadata": {},
   "outputs": [],
   "source": [
    "dataloader = create_dataloader(raw, batch_size=4, max_length = 4, stride = 1, shuffle=False)\n",
    "dataiter = iter(dataloader)\n",
    "inputs, targets = next(dataiter)"
   ]
  },
  {
   "cell_type": "code",
   "execution_count": 134,
   "id": "66569edd",
   "metadata": {},
   "outputs": [],
   "source": [
    "ndim =768\n",
    "embeddings = torch.nn.Embedding(50257, ndim)"
   ]
  },
  {
   "cell_type": "code",
   "execution_count": 135,
   "id": "ebe99f8d",
   "metadata": {},
   "outputs": [
    {
     "data": {
      "text/plain": [
       "torch.Size([4, 4, 768])"
      ]
     },
     "execution_count": 135,
     "metadata": {},
     "output_type": "execute_result"
    }
   ],
   "source": [
    "embeddings(inputs).shape"
   ]
  },
  {
   "cell_type": "code",
   "execution_count": 136,
   "id": "13cf94a8",
   "metadata": {},
   "outputs": [
    {
     "data": {
      "text/plain": [
       "torch.Size([4, 4, 768])"
      ]
     },
     "execution_count": 136,
     "metadata": {},
     "output_type": "execute_result"
    }
   ],
   "source": [
    "embeddings(targets).shape"
   ]
  },
  {
   "cell_type": "code",
   "execution_count": 138,
   "id": "c068b809",
   "metadata": {},
   "outputs": [],
   "source": [
    "token_embeddings = embeddings(inputs)"
   ]
  },
  {
   "cell_type": "code",
   "execution_count": 144,
   "id": "371635ea",
   "metadata": {},
   "outputs": [],
   "source": [
    "positional_embeddings_layer = torch.nn.Embedding(inputs.shape[1], ndim)"
   ]
  },
  {
   "cell_type": "code",
   "execution_count": 146,
   "id": "bd9afd2c",
   "metadata": {},
   "outputs": [],
   "source": [
    "positional_embeddings = positional_embeddings_layer(torch.arange(inputs.shape[1]))"
   ]
  },
  {
   "cell_type": "code",
   "execution_count": 147,
   "id": "43572c63",
   "metadata": {},
   "outputs": [],
   "source": [
    "input_embeddings = token_embeddings + positional_embeddings"
   ]
  },
  {
   "cell_type": "code",
   "execution_count": 148,
   "id": "4f2a553e",
   "metadata": {},
   "outputs": [
    {
     "data": {
      "text/plain": [
       "torch.Size([4, 4, 768])"
      ]
     },
     "execution_count": 148,
     "metadata": {},
     "output_type": "execute_result"
    }
   ],
   "source": [
    "input_embeddings.shape"
   ]
  }
 ],
 "metadata": {
  "kernelspec": {
   "display_name": "LLM",
   "language": "python",
   "name": "python3"
  },
  "language_info": {
   "codemirror_mode": {
    "name": "ipython",
    "version": 3
   },
   "file_extension": ".py",
   "mimetype": "text/x-python",
   "name": "python",
   "nbconvert_exporter": "python",
   "pygments_lexer": "ipython3",
   "version": "3.12.11"
  }
 },
 "nbformat": 4,
 "nbformat_minor": 5
}
